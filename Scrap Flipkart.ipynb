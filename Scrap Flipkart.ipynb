{
 "cells": [
  {
   "cell_type": "code",
   "execution_count": 61,
   "id": "7cb38cae-20ee-47c3-ab7f-1e32de987b3c",
   "metadata": {},
   "outputs": [],
   "source": [
    "import pandas as pd\n",
    "import requests\n",
    "from bs4 import BeautifulSoup"
   ]
  },
  {
   "cell_type": "code",
   "execution_count": 64,
   "id": "df49418a-6b2e-4321-a71d-42583a60b2dd",
   "metadata": {},
   "outputs": [],
   "source": [
    "url_flipkart = \"https://www.flipkart.com\""
   ]
  },
  {
   "cell_type": "code",
   "execution_count": 6,
   "id": "32d306a1-1049-42cc-8921-eabd0be81d38",
   "metadata": {},
   "outputs": [],
   "source": [
    "f = requests.get(url_flipkart)"
   ]
  },
  {
   "cell_type": "code",
   "execution_count": 7,
   "id": "cd3d0299-d550-44e0-8c32-e1994f773c65",
   "metadata": {},
   "outputs": [
    {
     "data": {
      "text/plain": [
       "<Response [200]>"
      ]
     },
     "execution_count": 7,
     "metadata": {},
     "output_type": "execute_result"
    }
   ],
   "source": [
    "f"
   ]
  },
  {
   "cell_type": "code",
   "execution_count": 10,
   "id": "87c3f1b2-7171-443d-8ba0-fa50e23e5611",
   "metadata": {},
   "outputs": [
    {
     "name": "stdout",
     "output_type": "stream",
     "text": [
      "<Response [200]>\n"
     ]
    }
   ],
   "source": [
    "print(f)"
   ]
  },
  {
   "cell_type": "code",
   "execution_count": 65,
   "id": "12bd5807-46ee-4c43-a135-eb202b8c7f6f",
   "metadata": {},
   "outputs": [],
   "source": [
    "url_accessories = \"https://www.flipkart.com/search?q=accessories+for+girls&sid=mcr%2C96v&as=on&as-show=on&otracker=AS_QueryStore_OrganicAutoSuggest_4_5_na_na_na&otracker1=AS_QueryStore_OrganicAutoSuggest_4_5_na_na_na&as-pos=4&as-type=HISTORY&suggestionId=accessories+for+girls%7CArtificial+Jewellery&requestId=a94e786b-c879-42cd-aaf6-8a9fcfcc1fdf&page=1\""
   ]
  },
  {
   "cell_type": "code",
   "execution_count": 9,
   "id": "e1e37ea8-e7a1-42a4-9f2b-cd80a589c409",
   "metadata": {},
   "outputs": [],
   "source": [
    "r = requests.get(url_accessories)"
   ]
  },
  {
   "cell_type": "code",
   "execution_count": 13,
   "id": "1f53f3f1-4eb6-486c-b4eb-410718bb6c70",
   "metadata": {},
   "outputs": [
    {
     "data": {
      "text/plain": [
       "<Response [200]>"
      ]
     },
     "execution_count": 13,
     "metadata": {},
     "output_type": "execute_result"
    }
   ],
   "source": [
    "r"
   ]
  },
  {
   "cell_type": "code",
   "execution_count": 10,
   "id": "e9cea9f4-e092-474f-82dd-90c423400ea6",
   "metadata": {},
   "outputs": [],
   "source": [
    "soup =BeautifulSoup(r.text, \"lxml\")"
   ]
  },
  {
   "cell_type": "code",
   "execution_count": 16,
   "id": "94fe026a-91c2-4677-b042-a56d5ebfc7b0",
   "metadata": {},
   "outputs": [],
   "source": [
    "#soup"
   ]
  },
  {
   "cell_type": "code",
   "execution_count": 17,
   "id": "04718b06-cb78-4b42-aac1-7f8fbedd37e2",
   "metadata": {},
   "outputs": [],
   "source": [
    "# a-->>anchor tag for links"
   ]
  },
  {
   "cell_type": "code",
   "execution_count": 11,
   "id": "1927967b-575e-4939-8568-b1a5d33ca912",
   "metadata": {},
   "outputs": [],
   "source": [
    "np = soup.find(\"a\", class_=\"_9QVEpD\").get(\"href\")"
   ]
  },
  {
   "cell_type": "code",
   "execution_count": 24,
   "id": "077e016b-7987-4e87-a7f9-78e403a4740f",
   "metadata": {},
   "outputs": [
    {
     "data": {
      "text/plain": [
       "'/search?q=accessories+for+girls&sid=mcr%2C96v&as=on&as-show=on&otracker=AS_QueryStore_OrganicAutoSuggest_4_5_na_na_na&otracker1=AS_QueryStore_OrganicAutoSuggest_4_5_na_na_na&as-pos=4&as-type=HISTORY&suggestionId=accessories+for+girls%7CArtificial+Jewellery&requestId=a94e786b-c879-42cd-aaf6-8a9fcfcc1fdf&page=2'"
      ]
     },
     "execution_count": 24,
     "metadata": {},
     "output_type": "execute_result"
    }
   ],
   "source": [
    "np"
   ]
  },
  {
   "cell_type": "code",
   "execution_count": 12,
   "id": "c8b1b4e8-2f6a-40b8-b7f9-b1fe145c5712",
   "metadata": {},
   "outputs": [],
   "source": [
    "cnp = \"https://www.flipkart.com\"+np"
   ]
  },
  {
   "cell_type": "code",
   "execution_count": 27,
   "id": "dc57e057-176d-4533-9bb7-fad34fe06e93",
   "metadata": {},
   "outputs": [
    {
     "data": {
      "text/plain": [
       "'https://www.flipkart.com/search?q=accessories+for+girls&sid=mcr%2C96v&as=on&as-show=on&otracker=AS_QueryStore_OrganicAutoSuggest_4_5_na_na_na&otracker1=AS_QueryStore_OrganicAutoSuggest_4_5_na_na_na&as-pos=4&as-type=HISTORY&suggestionId=accessories+for+girls%7CArtificial+Jewellery&requestId=a94e786b-c879-42cd-aaf6-8a9fcfcc1fdf&page=2'"
      ]
     },
     "execution_count": 27,
     "metadata": {},
     "output_type": "execute_result"
    }
   ],
   "source": [
    "cnp"
   ]
  },
  {
   "cell_type": "code",
   "execution_count": 13,
   "id": "db75ebb4-ea19-4d70-be63-1dc3cd901d35",
   "metadata": {},
   "outputs": [],
   "source": [
    "url = cnp\n",
    "r = requests.get(url)\n",
    "soup = BeautifulSoup(r.text,\"lxml\")"
   ]
  },
  {
   "cell_type": "code",
   "execution_count": 14,
   "id": "c0153724-664b-4891-b98b-731562d2ac71",
   "metadata": {},
   "outputs": [
    {
     "data": {
      "text/plain": [
       "'https://www.flipkart.com/search?q=accessories+for+girls&sid=mcr%2C96v&as=on&as-show=on&otracker=AS_QueryStore_OrganicAutoSuggest_4_5_na_na_na&otracker1=AS_QueryStore_OrganicAutoSuggest_4_5_na_na_na&as-pos=4&as-type=HISTORY&suggestionId=accessories+for+girls%7CArtificial+Jewellery&requestId=a94e786b-c879-42cd-aaf6-8a9fcfcc1fdf&page=2'"
      ]
     },
     "execution_count": 14,
     "metadata": {},
     "output_type": "execute_result"
    }
   ],
   "source": [
    "url"
   ]
  },
  {
   "cell_type": "code",
   "execution_count": null,
   "id": "85a16d86-a1cd-4571-8bfd-5f0a60f7924e",
   "metadata": {
    "scrolled": true
   },
   "outputs": [
    {
     "name": "stdout",
     "output_type": "stream",
     "text": [
      "https://www.flipkart.com/search?q=accessories+for+girls&sid=mcr%2C96v&as=on&as-show=on&otracker=AS_QueryStore_OrganicAutoSuggest_4_5_na_na_na&otracker1=AS_QueryStore_OrganicAutoSuggest_4_5_na_na_na&as-pos=4&as-type=HISTORY&suggestionId=accessories+for+girls%7CArtificial+Jewellery&requestId=a94e786b-c879-42cd-aaf6-8a9fcfcc1fdf&page=2\n",
      "https://www.flipkart.com/search?q=accessories+for+girls&sid=mcr%2C96v&as=on&as-show=on&otracker=AS_QueryStore_OrganicAutoSuggest_4_5_na_na_na&otracker1=AS_QueryStore_OrganicAutoSuggest_4_5_na_na_na&as-pos=4&as-type=HISTORY&suggestionId=accessories+for+girls%7CArtificial+Jewellery&requestId=a94e786b-c879-42cd-aaf6-8a9fcfcc1fdf&page=1\n",
      "https://www.flipkart.com/search?q=accessories+for+girls&sid=mcr%2C96v&as=on&as-show=on&otracker=AS_QueryStore_OrganicAutoSuggest_4_5_na_na_na&otracker1=AS_QueryStore_OrganicAutoSuggest_4_5_na_na_na&as-pos=4&as-type=HISTORY&suggestionId=accessories+for+girls%7CArtificial+Jewellery&requestId=a94e786b-c879-42cd-aaf6-8a9fcfcc1fdf&page=2\n",
      "https://www.flipkart.com/search?q=accessories+for+girls&sid=mcr%2C96v&as=on&as-show=on&otracker=AS_QueryStore_OrganicAutoSuggest_4_5_na_na_na&otracker1=AS_QueryStore_OrganicAutoSuggest_4_5_na_na_na&as-pos=4&as-type=HISTORY&suggestionId=accessories+for+girls%7CArtificial+Jewellery&requestId=a94e786b-c879-42cd-aaf6-8a9fcfcc1fdf&page=1\n",
      "https://www.flipkart.com/search?q=accessories+for+girls&sid=mcr%2C96v&as=on&as-show=on&otracker=AS_QueryStore_OrganicAutoSuggest_4_5_na_na_na&otracker1=AS_QueryStore_OrganicAutoSuggest_4_5_na_na_na&as-pos=4&as-type=HISTORY&suggestionId=accessories+for+girls%7CArtificial+Jewellery&requestId=a94e786b-c879-42cd-aaf6-8a9fcfcc1fdf&page=2\n",
      "https://www.flipkart.com/search?q=accessories+for+girls&sid=mcr%2C96v&as=on&as-show=on&otracker=AS_QueryStore_OrganicAutoSuggest_4_5_na_na_na&otracker1=AS_QueryStore_OrganicAutoSuggest_4_5_na_na_na&as-pos=4&as-type=HISTORY&suggestionId=accessories+for+girls%7CArtificial+Jewellery&requestId=a94e786b-c879-42cd-aaf6-8a9fcfcc1fdf&page=1\n",
      "https://www.flipkart.com/search?q=accessories+for+girls&sid=mcr%2C96v&as=on&as-show=on&otracker=AS_QueryStore_OrganicAutoSuggest_4_5_na_na_na&otracker1=AS_QueryStore_OrganicAutoSuggest_4_5_na_na_na&as-pos=4&as-type=HISTORY&suggestionId=accessories+for+girls%7CArtificial+Jewellery&requestId=a94e786b-c879-42cd-aaf6-8a9fcfcc1fdf&page=2\n",
      "https://www.flipkart.com/search?q=accessories+for+girls&sid=mcr%2C96v&as=on&as-show=on&otracker=AS_QueryStore_OrganicAutoSuggest_4_5_na_na_na&otracker1=AS_QueryStore_OrganicAutoSuggest_4_5_na_na_na&as-pos=4&as-type=HISTORY&suggestionId=accessories+for+girls%7CArtificial+Jewellery&requestId=a94e786b-c879-42cd-aaf6-8a9fcfcc1fdf&page=1\n",
      "https://www.flipkart.com/search?q=accessories+for+girls&sid=mcr%2C96v&as=on&as-show=on&otracker=AS_QueryStore_OrganicAutoSuggest_4_5_na_na_na&otracker1=AS_QueryStore_OrganicAutoSuggest_4_5_na_na_na&as-pos=4&as-type=HISTORY&suggestionId=accessories+for+girls%7CArtificial+Jewellery&requestId=a94e786b-c879-42cd-aaf6-8a9fcfcc1fdf&page=2\n",
      "https://www.flipkart.com/search?q=accessories+for+girls&sid=mcr%2C96v&as=on&as-show=on&otracker=AS_QueryStore_OrganicAutoSuggest_4_5_na_na_na&otracker1=AS_QueryStore_OrganicAutoSuggest_4_5_na_na_na&as-pos=4&as-type=HISTORY&suggestionId=accessories+for+girls%7CArtificial+Jewellery&requestId=a94e786b-c879-42cd-aaf6-8a9fcfcc1fdf&page=1\n"
     ]
    }
   ],
   "source": [
    "while True:\n",
    "    np = soup.find(\"a\", class_=\"_9QVEpD\").get(\"href\")\n",
    "    cnp = \"https://www.flipkart.com\"+np\n",
    "    print(cnp)\n",
    "    url=cnp\n",
    "    r= requests.get(url)\n",
    "    soup = BeautifulSoup(r.text,\"lxml\")\n",
    "    "
   ]
  },
  {
   "cell_type": "code",
   "execution_count": 35,
   "id": "daa55b66-f1b8-46a3-9bd6-75c5fb493381",
   "metadata": {
    "scrolled": true
   },
   "outputs": [
    {
     "name": "stdout",
     "output_type": "stream",
     "text": [
      "https://www.flipkart.com/search?q=accessories+for+girls&sid=mcr%2C96v&as=on&as-show=on&otracker=AS_QueryStore_OrganicAutoSuggest_4_5_na_na_na&otracker1=AS_QueryStore_OrganicAutoSuggest_4_5_na_na_na&as-pos=4&as-type=HISTORY&suggestionId=accessories+for+girls%7CArtificial+Jewellery&requestId=a94e786b-c879-42cd-aaf6-8a9fcfcc1fdf&page=1\n",
      "https://www.flipkart.com/search?q=accessories+for+girls&sid=mcr%2C96v&as=on&as-show=on&otracker=AS_QueryStore_OrganicAutoSuggest_4_5_na_na_na&otracker1=AS_QueryStore_OrganicAutoSuggest_4_5_na_na_na&as-pos=4&as-type=HISTORY&suggestionId=accessories+for+girls%7CArtificial+Jewellery&requestId=a94e786b-c879-42cd-aaf6-8a9fcfcc1fdf&page=2\n",
      "https://www.flipkart.com/search?q=accessories+for+girls&sid=mcr%2C96v&as=on&as-show=on&otracker=AS_QueryStore_OrganicAutoSuggest_4_5_na_na_na&otracker1=AS_QueryStore_OrganicAutoSuggest_4_5_na_na_na&as-pos=4&as-type=HISTORY&suggestionId=accessories+for+girls%7CArtificial+Jewellery&requestId=a94e786b-c879-42cd-aaf6-8a9fcfcc1fdf&page=3\n",
      "https://www.flipkart.com/search?q=accessories+for+girls&sid=mcr%2C96v&as=on&as-show=on&otracker=AS_QueryStore_OrganicAutoSuggest_4_5_na_na_na&otracker1=AS_QueryStore_OrganicAutoSuggest_4_5_na_na_na&as-pos=4&as-type=HISTORY&suggestionId=accessories+for+girls%7CArtificial+Jewellery&requestId=a94e786b-c879-42cd-aaf6-8a9fcfcc1fdf&page=4\n",
      "https://www.flipkart.com/search?q=accessories+for+girls&sid=mcr%2C96v&as=on&as-show=on&otracker=AS_QueryStore_OrganicAutoSuggest_4_5_na_na_na&otracker1=AS_QueryStore_OrganicAutoSuggest_4_5_na_na_na&as-pos=4&as-type=HISTORY&suggestionId=accessories+for+girls%7CArtificial+Jewellery&requestId=a94e786b-c879-42cd-aaf6-8a9fcfcc1fdf&page=5\n",
      "https://www.flipkart.com/search?q=accessories+for+girls&sid=mcr%2C96v&as=on&as-show=on&otracker=AS_QueryStore_OrganicAutoSuggest_4_5_na_na_na&otracker1=AS_QueryStore_OrganicAutoSuggest_4_5_na_na_na&as-pos=4&as-type=HISTORY&suggestionId=accessories+for+girls%7CArtificial+Jewellery&requestId=a94e786b-c879-42cd-aaf6-8a9fcfcc1fdf&page=6\n",
      "https://www.flipkart.com/search?q=accessories+for+girls&sid=mcr%2C96v&as=on&as-show=on&otracker=AS_QueryStore_OrganicAutoSuggest_4_5_na_na_na&otracker1=AS_QueryStore_OrganicAutoSuggest_4_5_na_na_na&as-pos=4&as-type=HISTORY&suggestionId=accessories+for+girls%7CArtificial+Jewellery&requestId=a94e786b-c879-42cd-aaf6-8a9fcfcc1fdf&page=7\n",
      "https://www.flipkart.com/search?q=accessories+for+girls&sid=mcr%2C96v&as=on&as-show=on&otracker=AS_QueryStore_OrganicAutoSuggest_4_5_na_na_na&otracker1=AS_QueryStore_OrganicAutoSuggest_4_5_na_na_na&as-pos=4&as-type=HISTORY&suggestionId=accessories+for+girls%7CArtificial+Jewellery&requestId=a94e786b-c879-42cd-aaf6-8a9fcfcc1fdf&page=8\n"
     ]
    }
   ],
   "source": [
    "for i in range(2,10):\n",
    "    url_accessories = \"https://www.flipkart.com/search?q=accessories+for+girls&sid=mcr%2C96v&as=on&as-show=on&otracker=AS_QueryStore_OrganicAutoSuggest_4_5_na_na_na&otracker1=AS_QueryStore_OrganicAutoSuggest_4_5_na_na_na&as-pos=4&as-type=HISTORY&suggestionId=accessories+for+girls%7CArtificial+Jewellery&requestId=a94e786b-c879-42cd-aaf6-8a9fcfcc1fdf&page=\"+str(i)\n",
    "    r = requests.get(url_accessories)\n",
    "    soup =BeautifulSoup(r.text, \"lxml\")\n",
    "    np = soup.find(\"a\", class_=\"_9QVEpD\").get(\"href\")\n",
    "    cnp = \"https://www.flipkart.com\"+np\n",
    "    print(cnp)\n"
   ]
  },
  {
   "cell_type": "code",
   "execution_count": 41,
   "id": "c7b79081-165a-4603-9de6-53a43473033f",
   "metadata": {
    "scrolled": true
   },
   "outputs": [
    {
     "name": "stdout",
     "output_type": "stream",
     "text": [
      "[<div class=\"Nx9bqj\">₹188</div>, <div class=\"Nx9bqj\">₹97</div>, <div class=\"Nx9bqj\">₹158</div>, <div class=\"Nx9bqj\">₹190</div>, <div class=\"Nx9bqj\">₹182</div>, <div class=\"Nx9bqj\">₹404</div>, <div class=\"Nx9bqj\">₹399</div>, <div class=\"Nx9bqj\">₹182</div>, <div class=\"Nx9bqj\">₹209</div>, <div class=\"Nx9bqj\">₹211</div>, <div class=\"Nx9bqj\">₹97</div>, <div class=\"Nx9bqj\">₹186</div>, <div class=\"Nx9bqj\">₹209</div>, <div class=\"Nx9bqj\">₹211</div>, <div class=\"Nx9bqj\">₹423</div>, <div class=\"Nx9bqj\">₹132</div>, <div class=\"Nx9bqj\">₹295</div>, <div class=\"Nx9bqj\">₹359</div>, <div class=\"Nx9bqj\">₹142</div>, <div class=\"Nx9bqj\">₹179</div>, <div class=\"Nx9bqj\">₹460</div>, <div class=\"Nx9bqj\">₹203</div>, <div class=\"Nx9bqj\">₹165</div>, <div class=\"Nx9bqj\">₹155</div>, <div class=\"Nx9bqj\">₹219</div>, <div class=\"Nx9bqj\">₹335</div>, <div class=\"Nx9bqj\">₹373</div>, <div class=\"Nx9bqj\">₹198</div>, <div class=\"Nx9bqj\">₹189</div>, <div class=\"Nx9bqj\">₹132</div>, <div class=\"Nx9bqj\">₹128</div>, <div class=\"Nx9bqj\">₹163</div>, <div class=\"Nx9bqj\">₹203</div>, <div class=\"Nx9bqj\">₹132</div>, <div class=\"Nx9bqj\">₹167</div>, <div class=\"Nx9bqj\">₹193</div>, <div class=\"Nx9bqj\">₹121</div>, <div class=\"Nx9bqj\">₹264</div>, <div class=\"Nx9bqj\">₹167</div>, <div class=\"Nx9bqj\">₹130</div>, <div class=\"Nx9bqj OQ4U3k\">₹132</div>, <div class=\"Nx9bqj OQ4U3k\">₹203</div>, <div class=\"Nx9bqj OQ4U3k\">₹155</div>, <div class=\"Nx9bqj OQ4U3k\">₹130</div>, <div class=\"Nx9bqj OQ4U3k\">₹209</div>]\n",
      "\n",
      "['₹188', '₹97', '₹158', '₹190', '₹182', '₹404', '₹399', '₹182', '₹209', '₹211', '₹97', '₹186', '₹209', '₹211', '₹423', '₹132', '₹295', '₹359', '₹142', '₹179', '₹460', '₹203', '₹165', '₹155', '₹219', '₹335', '₹373', '₹198', '₹189', '₹132', '₹128', '₹163', '₹203', '₹132', '₹167', '₹193', '₹121', '₹264', '₹167', '₹130', '₹132', '₹203', '₹155', '₹130', '₹209']\n",
      "\n",
      "45\n"
     ]
    }
   ],
   "source": [
    "prices = []\n",
    "product_name = []\n",
    "\n",
    "\n",
    "\n",
    "url_accessories = \"https://www.flipkart.com/search?q=accessories+for+girls&sid=mcr%2C96v&as=on&as-show=on&otracker=AS_QueryStore_OrganicAutoSuggest_4_5_na_na_na&otracker1=AS_QueryStore_OrganicAutoSuggest_4_5_na_na_na&as-pos=4&as-type=HISTORY&suggestionId=accessories+for+girls%7CArtificial+Jewellery&requestId=a94e786b-c879-42cd-aaf6-8a9fcfcc1fdf&page=\"+str(1)\n",
    "r = requests.get(url_accessories)\n",
    "soup =BeautifulSoup(r.text, \"lxml\")\n",
    "\n",
    "\n",
    "price = soup.find_all(\"div\",class_=\"Nx9bqj\")\n",
    "\n",
    "for i in price:\n",
    "    name = i.text\n",
    "    prices.append(name)\n",
    "    \n",
    "print(price)\n",
    "print()\n",
    "print(prices)\n",
    "print()\n",
    "print(len(prices))\n"
   ]
  },
  {
   "cell_type": "code",
   "execution_count": 36,
   "id": "f51d3ba2-af6f-4ddf-9428-a7fa70aefed2",
   "metadata": {
    "scrolled": true
   },
   "outputs": [
    {
     "name": "stdout",
     "output_type": "stream",
     "text": [
      "['Alloy Gold-plated Charm Bracelet', 'Brass Pearl Gold-plated Bracelet', 'Alloy Crystal Gold-plated Bracelet', 'Alloy Moonstone Gold-plated Bracelet', 'Metal Gold-plated Bracelet', 'Crystal Cubic Zirconia Gold-plated Bracelet', 'Stone Bracelet', 'Metal Copper Kada', 'Copper Bracelet', 'Metal Platinum Bracelet', 'Stainless Steel Cubic Zirconia Gold-plated Bracelet', 'Elegant Four Heart Pendnt Necklace- A Timeless Adition ...', 'Alloy Bracelet', 'Alloy Gold-plated Bracelet Set', 'Shimmering beautiful necklace combo for women and girls...', 'Metal, Fabric, Alloy Crystal Gold-plated Bangle Set', 'shimmering beautiful necklace combo for women and girls...', 'Latest Style Korean Rose Gold Pearl in Open Shell Oyste...', 'Stone Bracelet', 'Necklace Chain Pendant For women & Girls Pearl Brass Ch...', 'Alloy Diamond Gold-plated Bracelet', 'Glass Beads Bracelet', 'Luxury Magnetic Two-Wear Clavicle Chain Diamond Love Fo...', 'Alloy Gold-plated Bracelet', 'Necklace Chain Pendant For women & Girls Pearl Brass Ch...', 'Contemporary Stackable Rings Set Brass Gold Plated Stac...', 'Cowrie Beach Seashell Handmade Choker Stylish Shell Cor...', \"Lotus Devil'S Eye Necklace Set Women Jewellery Accessor...\", 'Metal Bracelet', 'Crystal Bracelet', 'Alloy Gold-plated Charm Bracelet', 'Brass Crystal Rhodium Bracelet', 'Dori Tennis Bracelet', 'Ocean Heart Alloy', '5 Piece Jewellery Set for Girls, Necklace, Earrings, Br...', 'Alloy Gold-plated Bracelet', 'Crystal Crystal Silver Bracelet', 'Brass, Alloy Cubic Zirconia Enamel Charm Bracelet', 'Copper Zircon Rhodium Bracelet', 'Metal Rhodium Blue, Silver Jewel Set']\n",
      "\n",
      "40\n"
     ]
    }
   ],
   "source": [
    "name = soup.find_all(\"a\",class_=\"WKTcLC\")\n",
    "\n",
    "for i in name:\n",
    "    name = i.text\n",
    "    product_name.append(name)\n",
    " \n",
    "print(product_name)\n",
    "print()\n",
    "print(len(product_name))\n"
   ]
  },
  {
   "cell_type": "code",
   "execution_count": 43,
   "id": "86e2cb9d-0f8c-4e67-b13d-2079ea274a5c",
   "metadata": {},
   "outputs": [],
   "source": [
    "# you can see that there is a differnce between product_name and it's price length ..\n",
    "# because its for whole box down side part also included"
   ]
  },
  {
   "cell_type": "code",
   "execution_count": 53,
   "id": "a7c8827e-9511-4b1b-a60a-10dd6865fa4b",
   "metadata": {
    "scrolled": true
   },
   "outputs": [
    {
     "name": "stdout",
     "output_type": "stream",
     "text": [
      "[<div class=\"Nx9bqj\">₹188</div>, <div class=\"Nx9bqj\">₹97</div>, <div class=\"Nx9bqj\">₹158</div>, <div class=\"Nx9bqj\">₹190</div>, <div class=\"Nx9bqj\">₹182</div>, <div class=\"Nx9bqj\">₹404</div>, <div class=\"Nx9bqj\">₹399</div>, <div class=\"Nx9bqj\">₹182</div>, <div class=\"Nx9bqj\">₹209</div>, <div class=\"Nx9bqj\">₹211</div>, <div class=\"Nx9bqj\">₹97</div>, <div class=\"Nx9bqj\">₹186</div>, <div class=\"Nx9bqj\">₹209</div>, <div class=\"Nx9bqj\">₹211</div>, <div class=\"Nx9bqj\">₹423</div>, <div class=\"Nx9bqj\">₹132</div>, <div class=\"Nx9bqj\">₹295</div>, <div class=\"Nx9bqj\">₹359</div>, <div class=\"Nx9bqj\">₹142</div>, <div class=\"Nx9bqj\">₹179</div>, <div class=\"Nx9bqj\">₹460</div>, <div class=\"Nx9bqj\">₹203</div>, <div class=\"Nx9bqj\">₹165</div>, <div class=\"Nx9bqj\">₹155</div>, <div class=\"Nx9bqj\">₹219</div>, <div class=\"Nx9bqj\">₹335</div>, <div class=\"Nx9bqj\">₹373</div>, <div class=\"Nx9bqj\">₹198</div>, <div class=\"Nx9bqj\">₹189</div>, <div class=\"Nx9bqj\">₹132</div>, <div class=\"Nx9bqj\">₹128</div>, <div class=\"Nx9bqj\">₹163</div>, <div class=\"Nx9bqj\">₹203</div>, <div class=\"Nx9bqj\">₹132</div>, <div class=\"Nx9bqj\">₹167</div>, <div class=\"Nx9bqj\">₹193</div>, <div class=\"Nx9bqj\">₹121</div>, <div class=\"Nx9bqj\">₹264</div>, <div class=\"Nx9bqj\">₹167</div>, <div class=\"Nx9bqj\">₹130</div>]\n",
      "\n",
      "['₹188', '₹97', '₹158', '₹190', '₹182', '₹404', '₹399', '₹182', '₹209', '₹211', '₹97', '₹186', '₹209', '₹211', '₹423', '₹132', '₹295', '₹359', '₹142', '₹179', '₹460', '₹203', '₹165', '₹155', '₹219', '₹335', '₹373', '₹198', '₹189', '₹132', '₹128', '₹163', '₹203', '₹132', '₹167', '₹193', '₹121', '₹264', '₹167', '₹130']\n",
      "\n",
      "40\n"
     ]
    }
   ],
   "source": [
    "\n",
    "\n",
    "prices = []\n",
    "product_name = []\n",
    "\n",
    "\n",
    "\n",
    "url_accessories = \"https://www.flipkart.com/search?q=accessories+for+girls&sid=mcr%2C96v&as=on&as-show=on&otracker=AS_QueryStore_OrganicAutoSuggest_4_5_na_na_na&otracker1=AS_QueryStore_OrganicAutoSuggest_4_5_na_na_na&as-pos=4&as-type=HISTORY&suggestionId=accessories+for+girls%7CArtificial+Jewellery&requestId=a94e786b-c879-42cd-aaf6-8a9fcfcc1fdf&page=\"+str(1)\n",
    "# adding box class of specific box of 1st page content not whole page\n",
    "box = soup.find(\"div\",class_=\"DOjaWF gdgoEp\")\n",
    "\n",
    "# using box instead od soup\n",
    "price = box.find_all(\"div\",class_=\"Nx9bqj\")\n",
    "\n",
    "for i in price:\n",
    "    name = i.text\n",
    "    prices.append(name)\n",
    "    \n",
    "print(price)\n",
    "print()\n",
    "print(prices)\n",
    "print()\n",
    "print(len(prices))"
   ]
  },
  {
   "cell_type": "code",
   "execution_count": 54,
   "id": "623856c9-b950-401d-8926-0736e968f4a3",
   "metadata": {
    "scrolled": true
   },
   "outputs": [
    {
     "name": "stdout",
     "output_type": "stream",
     "text": [
      "['Whipbird Jeans waist Tightener Button Brooch', 'Whipbird Jeans waist Tightener Button Brooch', 'Alloy Crystal Gold-plated Bracelet', 'Brass Pearl Gold-plated Bracelet', 'Metal Bangle Set', 'Neertara METAL FLOWER Brooch', 'Metal Bangle Set', 'Metal Bangle Set', 'Alloy Moonstone Gold-plated Bracelet', 'Metal Gold-plated Bracelet', 'Whipbird Jeans waist Tightener Button Brooch', 'Metal Copper Kada', 'Crystal Cubic Zirconia Gold-plated Bracelet', 'Stone Bracelet', 'Metal Platinum Bracelet', 'shimmeing beautiful pendant and locket pack of 5 combo ...', \"Men's Black Plated Stainless Steel Chain with Mahadev P...\", 'Neertara FAUX PEARL Brooch', 'Shihen Muslim Hijab Scarf Pin Brooch Straight Head Pin ...', 'Alloy Bracelet', 'Stainless Steel Charm Bracelet', 'Floral Ear Studs for Women Girls Pink Tulips Pearl Acry...', 'Necklaces Pendant Silver Color Shiny Butterfly Necklace...', 'Alloy Gold-plated Charm Bracelet', 'Stainless Steel Cubic Zirconia Gold-plated Bracelet', 'Plastic Bracelet Set', 'Brass, Alloy Brass Bangle Set', 'Elegant Four Heart Pendnt Necklace- A Timeless Adition ...', 'Alloy Bracelet', 'Shimmering beautiful necklace combo for women and girls...', 'shimmering beautiful necklace combo for women and girls...', 'Latest Style Korean Rose Gold Pearl in Open Shell Oyste...', 'Stone Bracelet', 'Necklace Chain Pendant For women & Girls Pearl Brass Ch...', 'Alloy Diamond Gold-plated Bracelet', 'J3G SILVER PEARL JEANS BUTTON PIN Brooch', 'Glass Beads Bracelet', 'Rubans Rhodium Plated, Minimal Chain Solitaire Zircon S...', 'Luxury Magnetic Two-Wear Clavicle Chain Diamond Love Fo...', 'Necklace Chain Pendant For women & Girls Pearl Brass Ch...']\n",
      "\n",
      "40\n"
     ]
    }
   ],
   "source": [
    "name = box.find_all(\"a\",class_=\"WKTcLC\")\n",
    "\n",
    "for i in name:\n",
    "    name = i.text\n",
    "    product_name.append(name)\n",
    " \n",
    "print(product_name)\n",
    "print()\n",
    "print(len(product_name))\n"
   ]
  },
  {
   "cell_type": "code",
   "execution_count": 46,
   "id": "f7f9f94f-1815-495c-89e3-35f9899f7723",
   "metadata": {},
   "outputs": [],
   "source": [
    "# now we can see length is same"
   ]
  },
  {
   "cell_type": "code",
   "execution_count": null,
   "id": "300370fa-f968-40ae-98d0-50b1e6849a6a",
   "metadata": {},
   "outputs": [],
   "source": [
    "# let us create a dataframe to understand easily"
   ]
  },
  {
   "cell_type": "code",
   "execution_count": 55,
   "id": "48231b39-eedc-4505-9276-1d3e699f0163",
   "metadata": {
    "scrolled": true
   },
   "outputs": [
    {
     "data": {
      "text/html": [
       "<div>\n",
       "<style scoped>\n",
       "    .dataframe tbody tr th:only-of-type {\n",
       "        vertical-align: middle;\n",
       "    }\n",
       "\n",
       "    .dataframe tbody tr th {\n",
       "        vertical-align: top;\n",
       "    }\n",
       "\n",
       "    .dataframe thead th {\n",
       "        text-align: right;\n",
       "    }\n",
       "</style>\n",
       "<table border=\"1\" class=\"dataframe\">\n",
       "  <thead>\n",
       "    <tr style=\"text-align: right;\">\n",
       "      <th></th>\n",
       "      <th>Product Name:</th>\n",
       "      <th>Prices:</th>\n",
       "    </tr>\n",
       "  </thead>\n",
       "  <tbody>\n",
       "    <tr>\n",
       "      <th>0</th>\n",
       "      <td>Whipbird Jeans waist Tightener Button Brooch</td>\n",
       "      <td>₹188</td>\n",
       "    </tr>\n",
       "    <tr>\n",
       "      <th>1</th>\n",
       "      <td>Whipbird Jeans waist Tightener Button Brooch</td>\n",
       "      <td>₹97</td>\n",
       "    </tr>\n",
       "    <tr>\n",
       "      <th>2</th>\n",
       "      <td>Alloy Crystal Gold-plated Bracelet</td>\n",
       "      <td>₹158</td>\n",
       "    </tr>\n",
       "    <tr>\n",
       "      <th>3</th>\n",
       "      <td>Brass Pearl Gold-plated Bracelet</td>\n",
       "      <td>₹190</td>\n",
       "    </tr>\n",
       "    <tr>\n",
       "      <th>4</th>\n",
       "      <td>Metal Bangle Set</td>\n",
       "      <td>₹182</td>\n",
       "    </tr>\n",
       "    <tr>\n",
       "      <th>5</th>\n",
       "      <td>Neertara METAL FLOWER Brooch</td>\n",
       "      <td>₹404</td>\n",
       "    </tr>\n",
       "    <tr>\n",
       "      <th>6</th>\n",
       "      <td>Metal Bangle Set</td>\n",
       "      <td>₹399</td>\n",
       "    </tr>\n",
       "    <tr>\n",
       "      <th>7</th>\n",
       "      <td>Metal Bangle Set</td>\n",
       "      <td>₹182</td>\n",
       "    </tr>\n",
       "    <tr>\n",
       "      <th>8</th>\n",
       "      <td>Alloy Moonstone Gold-plated Bracelet</td>\n",
       "      <td>₹209</td>\n",
       "    </tr>\n",
       "    <tr>\n",
       "      <th>9</th>\n",
       "      <td>Metal Gold-plated Bracelet</td>\n",
       "      <td>₹211</td>\n",
       "    </tr>\n",
       "    <tr>\n",
       "      <th>10</th>\n",
       "      <td>Whipbird Jeans waist Tightener Button Brooch</td>\n",
       "      <td>₹97</td>\n",
       "    </tr>\n",
       "    <tr>\n",
       "      <th>11</th>\n",
       "      <td>Metal Copper Kada</td>\n",
       "      <td>₹186</td>\n",
       "    </tr>\n",
       "    <tr>\n",
       "      <th>12</th>\n",
       "      <td>Crystal Cubic Zirconia Gold-plated Bracelet</td>\n",
       "      <td>₹209</td>\n",
       "    </tr>\n",
       "    <tr>\n",
       "      <th>13</th>\n",
       "      <td>Stone Bracelet</td>\n",
       "      <td>₹211</td>\n",
       "    </tr>\n",
       "    <tr>\n",
       "      <th>14</th>\n",
       "      <td>Metal Platinum Bracelet</td>\n",
       "      <td>₹423</td>\n",
       "    </tr>\n",
       "    <tr>\n",
       "      <th>15</th>\n",
       "      <td>shimmeing beautiful pendant and locket pack of...</td>\n",
       "      <td>₹132</td>\n",
       "    </tr>\n",
       "    <tr>\n",
       "      <th>16</th>\n",
       "      <td>Men's Black Plated Stainless Steel Chain with ...</td>\n",
       "      <td>₹295</td>\n",
       "    </tr>\n",
       "    <tr>\n",
       "      <th>17</th>\n",
       "      <td>Neertara FAUX PEARL Brooch</td>\n",
       "      <td>₹359</td>\n",
       "    </tr>\n",
       "    <tr>\n",
       "      <th>18</th>\n",
       "      <td>Shihen Muslim Hijab Scarf Pin Brooch Straight ...</td>\n",
       "      <td>₹142</td>\n",
       "    </tr>\n",
       "    <tr>\n",
       "      <th>19</th>\n",
       "      <td>Alloy Bracelet</td>\n",
       "      <td>₹179</td>\n",
       "    </tr>\n",
       "    <tr>\n",
       "      <th>20</th>\n",
       "      <td>Stainless Steel Charm Bracelet</td>\n",
       "      <td>₹460</td>\n",
       "    </tr>\n",
       "    <tr>\n",
       "      <th>21</th>\n",
       "      <td>Floral Ear Studs for Women Girls Pink Tulips P...</td>\n",
       "      <td>₹203</td>\n",
       "    </tr>\n",
       "    <tr>\n",
       "      <th>22</th>\n",
       "      <td>Necklaces Pendant Silver Color Shiny Butterfly...</td>\n",
       "      <td>₹165</td>\n",
       "    </tr>\n",
       "    <tr>\n",
       "      <th>23</th>\n",
       "      <td>Alloy Gold-plated Charm Bracelet</td>\n",
       "      <td>₹155</td>\n",
       "    </tr>\n",
       "    <tr>\n",
       "      <th>24</th>\n",
       "      <td>Stainless Steel Cubic Zirconia Gold-plated Bra...</td>\n",
       "      <td>₹219</td>\n",
       "    </tr>\n",
       "    <tr>\n",
       "      <th>25</th>\n",
       "      <td>Plastic Bracelet Set</td>\n",
       "      <td>₹335</td>\n",
       "    </tr>\n",
       "    <tr>\n",
       "      <th>26</th>\n",
       "      <td>Brass, Alloy Brass Bangle Set</td>\n",
       "      <td>₹373</td>\n",
       "    </tr>\n",
       "    <tr>\n",
       "      <th>27</th>\n",
       "      <td>Elegant Four Heart Pendnt Necklace- A Timeless...</td>\n",
       "      <td>₹198</td>\n",
       "    </tr>\n",
       "    <tr>\n",
       "      <th>28</th>\n",
       "      <td>Alloy Bracelet</td>\n",
       "      <td>₹189</td>\n",
       "    </tr>\n",
       "    <tr>\n",
       "      <th>29</th>\n",
       "      <td>Shimmering beautiful necklace combo for women ...</td>\n",
       "      <td>₹132</td>\n",
       "    </tr>\n",
       "    <tr>\n",
       "      <th>30</th>\n",
       "      <td>shimmering beautiful necklace combo for women ...</td>\n",
       "      <td>₹128</td>\n",
       "    </tr>\n",
       "    <tr>\n",
       "      <th>31</th>\n",
       "      <td>Latest Style Korean Rose Gold Pearl in Open Sh...</td>\n",
       "      <td>₹163</td>\n",
       "    </tr>\n",
       "    <tr>\n",
       "      <th>32</th>\n",
       "      <td>Stone Bracelet</td>\n",
       "      <td>₹203</td>\n",
       "    </tr>\n",
       "    <tr>\n",
       "      <th>33</th>\n",
       "      <td>Necklace Chain Pendant For women &amp; Girls Pearl...</td>\n",
       "      <td>₹132</td>\n",
       "    </tr>\n",
       "    <tr>\n",
       "      <th>34</th>\n",
       "      <td>Alloy Diamond Gold-plated Bracelet</td>\n",
       "      <td>₹167</td>\n",
       "    </tr>\n",
       "    <tr>\n",
       "      <th>35</th>\n",
       "      <td>J3G SILVER PEARL JEANS BUTTON PIN Brooch</td>\n",
       "      <td>₹193</td>\n",
       "    </tr>\n",
       "    <tr>\n",
       "      <th>36</th>\n",
       "      <td>Glass Beads Bracelet</td>\n",
       "      <td>₹121</td>\n",
       "    </tr>\n",
       "    <tr>\n",
       "      <th>37</th>\n",
       "      <td>Rubans Rhodium Plated, Minimal Chain Solitaire...</td>\n",
       "      <td>₹264</td>\n",
       "    </tr>\n",
       "    <tr>\n",
       "      <th>38</th>\n",
       "      <td>Luxury Magnetic Two-Wear Clavicle Chain Diamon...</td>\n",
       "      <td>₹167</td>\n",
       "    </tr>\n",
       "    <tr>\n",
       "      <th>39</th>\n",
       "      <td>Necklace Chain Pendant For women &amp; Girls Pearl...</td>\n",
       "      <td>₹130</td>\n",
       "    </tr>\n",
       "  </tbody>\n",
       "</table>\n",
       "</div>"
      ],
      "text/plain": [
       "                                        Product Name: Prices:\n",
       "0        Whipbird Jeans waist Tightener Button Brooch    ₹188\n",
       "1        Whipbird Jeans waist Tightener Button Brooch     ₹97\n",
       "2                  Alloy Crystal Gold-plated Bracelet    ₹158\n",
       "3                    Brass Pearl Gold-plated Bracelet    ₹190\n",
       "4                                    Metal Bangle Set    ₹182\n",
       "5                        Neertara METAL FLOWER Brooch    ₹404\n",
       "6                                    Metal Bangle Set    ₹399\n",
       "7                                    Metal Bangle Set    ₹182\n",
       "8                Alloy Moonstone Gold-plated Bracelet    ₹209\n",
       "9                          Metal Gold-plated Bracelet    ₹211\n",
       "10       Whipbird Jeans waist Tightener Button Brooch     ₹97\n",
       "11                                  Metal Copper Kada    ₹186\n",
       "12        Crystal Cubic Zirconia Gold-plated Bracelet    ₹209\n",
       "13                                     Stone Bracelet    ₹211\n",
       "14                            Metal Platinum Bracelet    ₹423\n",
       "15  shimmeing beautiful pendant and locket pack of...    ₹132\n",
       "16  Men's Black Plated Stainless Steel Chain with ...    ₹295\n",
       "17                         Neertara FAUX PEARL Brooch    ₹359\n",
       "18  Shihen Muslim Hijab Scarf Pin Brooch Straight ...    ₹142\n",
       "19                                     Alloy Bracelet    ₹179\n",
       "20                     Stainless Steel Charm Bracelet    ₹460\n",
       "21  Floral Ear Studs for Women Girls Pink Tulips P...    ₹203\n",
       "22  Necklaces Pendant Silver Color Shiny Butterfly...    ₹165\n",
       "23                   Alloy Gold-plated Charm Bracelet    ₹155\n",
       "24  Stainless Steel Cubic Zirconia Gold-plated Bra...    ₹219\n",
       "25                               Plastic Bracelet Set    ₹335\n",
       "26                      Brass, Alloy Brass Bangle Set    ₹373\n",
       "27  Elegant Four Heart Pendnt Necklace- A Timeless...    ₹198\n",
       "28                                     Alloy Bracelet    ₹189\n",
       "29  Shimmering beautiful necklace combo for women ...    ₹132\n",
       "30  shimmering beautiful necklace combo for women ...    ₹128\n",
       "31  Latest Style Korean Rose Gold Pearl in Open Sh...    ₹163\n",
       "32                                     Stone Bracelet    ₹203\n",
       "33  Necklace Chain Pendant For women & Girls Pearl...    ₹132\n",
       "34                 Alloy Diamond Gold-plated Bracelet    ₹167\n",
       "35           J3G SILVER PEARL JEANS BUTTON PIN Brooch    ₹193\n",
       "36                               Glass Beads Bracelet    ₹121\n",
       "37  Rubans Rhodium Plated, Minimal Chain Solitaire...    ₹264\n",
       "38  Luxury Magnetic Two-Wear Clavicle Chain Diamon...    ₹167\n",
       "39  Necklace Chain Pendant For women & Girls Pearl...    ₹130"
      ]
     },
     "execution_count": 55,
     "metadata": {},
     "output_type": "execute_result"
    }
   ],
   "source": [
    "# creating dataframe of 1st page only\n",
    "df = pd.DataFrame({\"Product Name:\":product_name,\"Prices:\":prices})\n",
    "df"
   ]
  },
  {
   "cell_type": "code",
   "execution_count": 58,
   "id": "063c2483-6dad-4d35-8f25-a5eab599ab62",
   "metadata": {
    "scrolled": true
   },
   "outputs": [
    {
     "data": {
      "text/html": [
       "<div>\n",
       "<style scoped>\n",
       "    .dataframe tbody tr th:only-of-type {\n",
       "        vertical-align: middle;\n",
       "    }\n",
       "\n",
       "    .dataframe tbody tr th {\n",
       "        vertical-align: top;\n",
       "    }\n",
       "\n",
       "    .dataframe thead th {\n",
       "        text-align: right;\n",
       "    }\n",
       "</style>\n",
       "<table border=\"1\" class=\"dataframe\">\n",
       "  <thead>\n",
       "    <tr style=\"text-align: right;\">\n",
       "      <th></th>\n",
       "      <th>Product Name:</th>\n",
       "      <th>Prices:</th>\n",
       "    </tr>\n",
       "  </thead>\n",
       "  <tbody>\n",
       "    <tr>\n",
       "      <th>0</th>\n",
       "      <td>Whipbird Jeans waist Tightener Button Brooch</td>\n",
       "      <td>₹188</td>\n",
       "    </tr>\n",
       "    <tr>\n",
       "      <th>1</th>\n",
       "      <td>Whipbird Jeans waist Tightener Button Brooch</td>\n",
       "      <td>₹97</td>\n",
       "    </tr>\n",
       "    <tr>\n",
       "      <th>2</th>\n",
       "      <td>Alloy Crystal Gold-plated Bracelet</td>\n",
       "      <td>₹158</td>\n",
       "    </tr>\n",
       "    <tr>\n",
       "      <th>3</th>\n",
       "      <td>Brass Pearl Gold-plated Bracelet</td>\n",
       "      <td>₹190</td>\n",
       "    </tr>\n",
       "    <tr>\n",
       "      <th>4</th>\n",
       "      <td>Metal Bangle Set</td>\n",
       "      <td>₹182</td>\n",
       "    </tr>\n",
       "    <tr>\n",
       "      <th>...</th>\n",
       "      <td>...</td>\n",
       "      <td>...</td>\n",
       "    </tr>\n",
       "    <tr>\n",
       "      <th>435</th>\n",
       "      <td>J3G SILVER PEARL JEANS BUTTON PIN Brooch</td>\n",
       "      <td>₹193</td>\n",
       "    </tr>\n",
       "    <tr>\n",
       "      <th>436</th>\n",
       "      <td>Glass Beads Bracelet</td>\n",
       "      <td>₹121</td>\n",
       "    </tr>\n",
       "    <tr>\n",
       "      <th>437</th>\n",
       "      <td>Rubans Rhodium Plated, Minimal Chain Solitaire...</td>\n",
       "      <td>₹264</td>\n",
       "    </tr>\n",
       "    <tr>\n",
       "      <th>438</th>\n",
       "      <td>Luxury Magnetic Two-Wear Clavicle Chain Diamon...</td>\n",
       "      <td>₹167</td>\n",
       "    </tr>\n",
       "    <tr>\n",
       "      <th>439</th>\n",
       "      <td>Necklace Chain Pendant For women &amp; Girls Pearl...</td>\n",
       "      <td>₹130</td>\n",
       "    </tr>\n",
       "  </tbody>\n",
       "</table>\n",
       "<p>440 rows × 2 columns</p>\n",
       "</div>"
      ],
      "text/plain": [
       "                                         Product Name: Prices:\n",
       "0         Whipbird Jeans waist Tightener Button Brooch    ₹188\n",
       "1         Whipbird Jeans waist Tightener Button Brooch     ₹97\n",
       "2                   Alloy Crystal Gold-plated Bracelet    ₹158\n",
       "3                     Brass Pearl Gold-plated Bracelet    ₹190\n",
       "4                                     Metal Bangle Set    ₹182\n",
       "..                                                 ...     ...\n",
       "435           J3G SILVER PEARL JEANS BUTTON PIN Brooch    ₹193\n",
       "436                               Glass Beads Bracelet    ₹121\n",
       "437  Rubans Rhodium Plated, Minimal Chain Solitaire...    ₹264\n",
       "438  Luxury Magnetic Two-Wear Clavicle Chain Diamon...    ₹167\n",
       "439  Necklace Chain Pendant For women & Girls Pearl...    ₹130\n",
       "\n",
       "[440 rows x 2 columns]"
      ]
     },
     "execution_count": 58,
     "metadata": {},
     "output_type": "execute_result"
    }
   ],
   "source": [
    "# by using loop creating dataframe upto 10 pages\n",
    "\n",
    "for i in range(2,12):\n",
    "    url_accessories = \"https://www.flipkart.com/search?q=accessories+for+girls&sid=mcr%2C96v&as=on&as-show=on&otracker=AS_QueryStore_OrganicAutoSuggest_4_5_na_na_na&otracker1=AS_QueryStore_OrganicAutoSuggest_4_5_na_na_na&as-pos=4&as-type=HISTORY&suggestionId=accessories+for+girls%7CArtificial+Jewellery&requestId=a94e786b-c879-42cd-aaf6-8a9fcfcc1fdf&page=\"+str(i)\n",
    "\n",
    "\n",
    "    price = box.find_all(\"div\",class_=\"Nx9bqj\")\n",
    "    for i in price:\n",
    "        name = i.text\n",
    "        prices.append(name)\n",
    "\n",
    "\n",
    "\n",
    "    name = soup.find_all(\"a\",class_=\"WKTcLC\")\n",
    "    for i in name:\n",
    "        name = i.text\n",
    "        product_name.append(name)\n",
    " \n",
    "\n",
    "df = pd.DataFrame({\"Product Name:\":product_name,\"Prices:\":prices})\n",
    "df"
   ]
  },
  {
   "cell_type": "code",
   "execution_count": 56,
   "id": "04f9d072-524a-486b-90ea-85d140017107",
   "metadata": {},
   "outputs": [],
   "source": [
    "# creating csv of the dataframe"
   ]
  },
  {
   "cell_type": "code",
   "execution_count": 59,
   "id": "bf88732f-86a2-4cde-b474-ebc1c2afea3b",
   "metadata": {},
   "outputs": [],
   "source": [
    "df.to_csv(\"hair_accessories.csv\")\n",
    "# csv created in existing folder"
   ]
  },
  {
   "cell_type": "code",
   "execution_count": null,
   "id": "fe82c383-580e-4ac8-a118-1c50ef11a004",
   "metadata": {},
   "outputs": [],
   "source": [
    "# if uhh want csv to make in another folder copy its path-->>paste it on the front side-->>then change /-->>\\"
   ]
  }
 ],
 "metadata": {
  "kernelspec": {
   "display_name": "Python 3 (ipykernel)",
   "language": "python",
   "name": "python3"
  },
  "language_info": {
   "codemirror_mode": {
    "name": "ipython",
    "version": 3
   },
   "file_extension": ".py",
   "mimetype": "text/x-python",
   "name": "python",
   "nbconvert_exporter": "python",
   "pygments_lexer": "ipython3",
   "version": "3.13.1"
  }
 },
 "nbformat": 4,
 "nbformat_minor": 5
}
